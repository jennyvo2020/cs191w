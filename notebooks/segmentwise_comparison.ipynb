{
 "cells": [
  {
   "cell_type": "markdown",
   "metadata": {},
   "source": [
    "# Description\n",
    "\n",
    "This notebook executes segmentwise comparative shape analysis on the graduated segments of two amphora point clouds, taking you through the following steps: (1) checking your files, (2) inputting the items you want to analyze, (3) running outlier removal, (4) running distance analysis, and (5) visualizing and saving your results, including high-quality figures for publication \n",
    "\n",
    "## I/O\n",
    "**Inputs:**\n",
    " - a point/mesh cloud (.obj format) from each of two amphoras for each graduated segment\n",
    "\n",
    "**Outputs:**\n",
    " - each input segment with outliers removed\n",
    " - the average mesh-to-mesh distance between the amphoras at each graduated segment\n",
    " - a visualization of the distribution of these average distances\n",
    "\n",
    "## Sample Dataset\n",
    "\n",
    "The two amphoras in this sample dataset are jars 80E-2 and 4634 from the Gumusluk site.\n",
    "\n",
    "#### Edit a block of code if and only if you see \"USER INPUT NEEDED!\" above that block of code."
   ]
  },
  {
   "cell_type": "markdown",
   "metadata": {},
   "source": [
    "# Step 1: Check your files\n",
    "\n",
    "#### Your project directory should look like this:\n",
    "\n",
    "```\n",
    "my_segmentwise_analysis (a folder)\n",
    "- segmentwise_comparison.ipynb (this notebook file)\n",
    "- segments (a folder)\n",
    "    - 01 (a folder corresponding with the segment between cuts 0 and 1)\n",
    "        - 01_80E2.mtl (material file for amphora 80E2)\n",
    "        - 01_4634.mtl (material file for amphora 01_4634)\n",
    "        - 01_80E2.obj (file for amphora 80E2)\n",
    "        - 01_4634.obj (file for amphora 01_4634)\n",
    "        - 0_SFusion_80E-2_01.bin (image file for amphora 80E2)\n",
    "        - 0_SFusion_4634_01.bin (image file for amphora 01_4634)\n",
    "    - 12\n",
    "        - contents as in 01\n",
    "    - 23\n",
    "        - contents as in 01\n",
    "    - etc. (as many segments as your jars have)\n",
    "```"
   ]
  },
  {
   "cell_type": "markdown",
   "metadata": {},
   "source": [
    "# Step 2: List the items you want to analyze\n",
    "\n",
    "- The names of the amphora segments\n",
    "- The maximum diameter of each amphora\n",
    "- The names of the amphoras you want to compare\n",
    "- The filepath to the segments\n",
    "- Whether or not to save csv files of point cloud coordinates with all outliers excluded\n",
    "- Whether or not to save csv files of nearest-neighbor distances between objects.\n",
    "\n",
    "#### USER INPUT NEEDED!"
   ]
  },
  {
   "cell_type": "code",
   "execution_count": 10,
   "metadata": {
    "collapsed": true
   },
   "outputs": [],
   "source": [
    "segments = ['01', '12', '23', '34', '45', '56', '67', '78', '89']\n",
    "max_diameters = [114, 111, 247, 304, 353, 441, 340, 110, 69]    # the maximum diameter of each segment\n",
    "amphora_names = ['80E2', '4634']\n",
    "path_to_segments = './segments'\n",
    "save_nonoutliers = True   # Set True if these files do not yet exist, else False.\n",
    "save_distances = True     # Set True if these files do not yet exist, else False."
   ]
  },
  {
   "cell_type": "markdown",
   "metadata": {},
   "source": [
    "# Step 3: Run Outlier Removal\n",
    "Outlier points are identified as points which are not close enough to other points.\n",
    "Closeness threshold is the Otsu threshold as computed on the bimodal point-to-point distance distribution.\n",
    "\n",
    "Run the cells below to remove outlier points and optionally output a .csv file containing coordinates with all non-outliers only, in order to avoid repeating this computation. If this computation has already been run for these .obj files, set **save_nonoutliers** in the above cell (i.e. block of code) to True. Otherwise, set **save_nonoutliers** to False to avoid recreating the .csv files. (See comments for \"save_nonoutliers\" above.)"
   ]
  },
  {
   "cell_type": "code",
   "execution_count": 1,
   "metadata": {
    "collapsed": true
   },
   "outputs": [],
   "source": [
    "import csv, os, sys\n",
    "sys.path.insert(0,'../../code')\n",
    "import comp\n",
    "import matplotlib.pyplot as plt\n",
    "import numpy as np\n",
    "from itertools import izip"
   ]
  },
  {
   "cell_type": "code",
   "execution_count": 12,
   "metadata": {},
   "outputs": [
    {
     "name": "stdout",
     "output_type": "stream",
     "text": [
      "01\n",
      "12\n",
      "23\n",
      "34\n",
      "45\n",
      "56\n",
      "67\n",
      "78\n",
      "89\n"
     ]
    }
   ],
   "source": [
    "if not os.path.exists('./segment_csv'):\n",
    "    os.mkdir('./segment_csv')\n",
    "\n",
    "for segment in segments:\n",
    "    \n",
    "    print(segment) # you can see which segment the code is working on\n",
    "    \n",
    "    # Read Object 0\n",
    "    obj0_filepath = '%s/%s/%s_%s.obj' % (path_to_segments, segment, segment, amphora_names[0])\n",
    "    obj0_coords = comp.obj_to_np(obj0_filepath)\n",
    "    \n",
    "    # Remove Object 0 outlier points\n",
    "    obj0_csv_filepath = './segment_csv/%s_%s.csv' % (segment, amphora_names[0]) \n",
    "    obj0_coords = comp.remove_outliers(obj0_coords, save_nonoutliers, obj0_csv_filepath)\n",
    "\n",
    "    # Read Object 1\n",
    "    obj1_filepath = '%s/%s/%s_%s.obj' % (path_to_segments, segment, segment, amphora_names[1])\n",
    "    obj1_coords = comp.obj_to_np(obj1_filepath)\n",
    "    \n",
    "    # Remove Object 1 outlier points\n",
    "    obj1_csv_filepath = './segment_csv/%s_%s.csv' % (segment, amphora_names[1]) \n",
    "    obj1_coords = comp.remove_outliers(obj1_coords, save_nonoutliers, obj1_csv_filepath)"
   ]
  },
  {
   "cell_type": "markdown",
   "metadata": {},
   "source": [
    "# Step 4: Run Cloud-to-Cloud Distance Comparison"
   ]
  },
  {
   "cell_type": "markdown",
   "metadata": {},
   "source": [
    "Run the cell below to create an empty folder called \"results\"."
   ]
  },
  {
   "cell_type": "code",
   "execution_count": 13,
   "metadata": {
    "collapsed": true
   },
   "outputs": [],
   "source": [
    "if not os.path.exists('results'):\n",
    "    os.mkdir('results')"
   ]
  },
  {
   "cell_type": "markdown",
   "metadata": {},
   "source": [
    "Run the cell below to calculate the mean distance from each point in Object 1 to the nearest neighbor in Object 2 for each segment"
   ]
  },
  {
   "cell_type": "code",
   "execution_count": 15,
   "metadata": {},
   "outputs": [
    {
     "name": "stdout",
     "output_type": "stream",
     "text": [
      "01\n",
      "12\n",
      "23\n",
      "34\n",
      "45\n",
      "56\n",
      "67\n",
      "78\n",
      "89\n"
     ]
    }
   ],
   "source": [
    "average_distances = []\n",
    "stdev_distances = []\n",
    "\n",
    "for segment in segments:\n",
    "    \n",
    "    print segment # so the user can see which segment the code is working on\n",
    "    \n",
    "    obj0_csv_filename = './segment_csv/%s_%s.csv' % (segment, amphora_names[0]) \n",
    "    obj1_csv_filename = './segment_csv/%s_%s.csv' % (segment, amphora_names[1]) \n",
    "    \n",
    "    filepath = './results/%s_%s_%s_distances.csv' % (segment, amphora_names[0], amphora_names[1])\n",
    "    average_distance, stdev_distance = comp.get_avg_cc_dist(obj0_csv_filename, obj1_csv_filename, save_distances, filepath)\n",
    "    \n",
    "    average_distances.append(average_distance)\n",
    "    stdev_distances.append(stdev_distance)"
   ]
  },
  {
   "cell_type": "markdown",
   "metadata": {},
   "source": [
    "^ Each of these are status messages, which print while the program is running when the corresponding segment is being evaluated."
   ]
  },
  {
   "cell_type": "markdown",
   "metadata": {},
   "source": [
    "Run the cell below if you want to save the average and stdev distance data for each segment in a comma-separated value (CSV) file."
   ]
  },
  {
   "cell_type": "code",
   "execution_count": 26,
   "metadata": {
    "collapsed": true
   },
   "outputs": [],
   "source": [
    "with open('./results/distances_%s_%s.csv' % (amphora_names[0], amphora_names[1]), 'wb') as f:\n",
    "    writer = csv.writer(f)\n",
    "    writer.writerows(izip(segments, average_distances, stdev_distances))"
   ]
  },
  {
   "cell_type": "markdown",
   "metadata": {},
   "source": [
    "# Step 5: Visualize distance distributions across segments\n",
    "And save plots to use as figures!"
   ]
  },
  {
   "cell_type": "markdown",
   "metadata": {},
   "source": [
    "Adjust the parameters in the cell below to customize the look of your figures. Run the cell to set the parameters.\n",
    "\n",
    "*Tip: https://colorbrewer2.org/#type=sequential&scheme=BuGn&n=3 is a great place to look for colors that are colorblind safe, print friendly, and photocopy safe.*"
   ]
  },
  {
   "cell_type": "code",
   "execution_count": 2,
   "metadata": {
    "collapsed": true
   },
   "outputs": [],
   "source": [
    "bar_color = '#412100'\n",
    "resolution_dpi = 600     # set resolution of saved figures in dots per inch"
   ]
  },
  {
   "cell_type": "code",
   "execution_count": 31,
   "metadata": {},
   "outputs": [
    {
     "data": {
      "image/png": "[encoded data removed]",
      "text/plain": [
       "<matplotlib.figure.Figure at 0x1c0f162810>"
      ]
     },
     "metadata": {},
     "output_type": "display_data"
    }
   ],
   "source": [
    "fig, ax = plt.subplots()\n",
    "y_pos = np.arange(len(segments))\n",
    "ax.barh(y_pos, average_distances, color=bar_color)\n",
    "ax.set_yticks(y_pos)\n",
    "ax.set_yticklabels(segments)\n",
    "ax.invert_yaxis()\n",
    "ax.set_xlabel('Average point-to-nearest-neighbor distance [mm]')\n",
    "ax.set_ylabel('Segment')\n",
    "ax.set_title('Average point-to-nearest-neighbor distance')\n",
    "plt.show()"
   ]
  },
  {
   "cell_type": "markdown",
   "metadata": {},
   "source": [
    "Run the cell below if you want to save the plot as a PNG."
   ]
  },
  {
   "cell_type": "code",
   "execution_count": 37,
   "metadata": {},
   "outputs": [
    {
     "data": {
      "text/plain": [
       "<matplotlib.figure.Figure at 0x1c115d0d10>"
      ]
     },
     "metadata": {},
     "output_type": "display_data"
    }
   ],
   "source": [
    "plt.savefig('./results/pt_to_nearest_neighbor_dist_avgs.png', dpi=resolution_dpi)"
   ]
  },
  {
   "cell_type": "markdown",
   "metadata": {},
   "source": [
    "### Visualize average distances across segments, scaled for each segment's max diameter."
   ]
  },
  {
   "cell_type": "code",
   "execution_count": 38,
   "metadata": {},
   "outputs": [
    {
     "data": {
      "image/png": "[encoded data removed]",
      "text/plain": [
       "<matplotlib.figure.Figure at 0x1c11e74d90>"
      ]
     },
     "metadata": {},
     "output_type": "display_data"
    }
   ],
   "source": [
    "fig, ax = plt.subplots()\n",
    "y_pos = np.arange(len(segments))\n",
    "average_distances_scaled = [dist/dia for dist, dia in zip(average_distances, max_diameters)]\n",
    "ax.barh(y_pos, average_distances_scaled, color=bar_color)\n",
    "ax.set_yticks(y_pos)\n",
    "ax.set_yticklabels(segments)\n",
    "ax.invert_yaxis()\n",
    "ax.set_xlabel('Average point-to-nearest-neighbor distance / max diameter of segment')\n",
    "ax.set_ylabel('Segment')\n",
    "ax.set_title('Average point-to-nearest-neighbor distance scaled')\n",
    "plt.show()"
   ]
  },
  {
   "cell_type": "markdown",
   "metadata": {},
   "source": [
    "Run the cell below if you want to save the plot as a PNG."
   ]
  },
  {
   "cell_type": "code",
   "execution_count": 39,
   "metadata": {},
   "outputs": [
    {
     "data": {
      "text/plain": [
       "<matplotlib.figure.Figure at 0x1c18033b10>"
      ]
     },
     "metadata": {},
     "output_type": "display_data"
    }
   ],
   "source": [
    "plt.savefig('./results/pt_to_nearest_neighbor_dist_avgs_scaled.png', dpi=resolution_dpi)"
   ]
  },
  {
   "cell_type": "markdown",
   "metadata": {},
   "source": [
    "### Visualize the spread of distances across segments"
   ]
  },
  {
   "cell_type": "code",
   "execution_count": 34,
   "metadata": {},
   "outputs": [
    {
     "data": {
      "image/png": "[encoded data removed]",
      "text/plain": [
       "<matplotlib.figure.Figure at 0x1c15b9cb90>"
      ]
     },
     "metadata": {},
     "output_type": "display_data"
    }
   ],
   "source": [
    "fig, ax = plt.subplots()\n",
    "y_pos = np.arange(len(segments))\n",
    "ax.barh(y_pos, stdev_distances, color=bar_color)\n",
    "ax.set_yticks(y_pos)\n",
    "ax.set_yticklabels(segments)\n",
    "ax.invert_yaxis()\n",
    "ax.set_xlabel('Stdev of point-to-nearest-neighbor distances [mm]')\n",
    "ax.set_ylabel('Segment')\n",
    "ax.set_title('Stdev of point-to-nearest-neighbor distances')\n",
    "plt.show()"
   ]
  },
  {
   "cell_type": "markdown",
   "metadata": {},
   "source": [
    "Run the cell below if you want to save the plot as a PNG."
   ]
  },
  {
   "cell_type": "code",
   "execution_count": 40,
   "metadata": {},
   "outputs": [
    {
     "data": {
      "text/plain": [
       "<matplotlib.figure.Figure at 0x1c15de6050>"
      ]
     },
     "metadata": {},
     "output_type": "display_data"
    }
   ],
   "source": [
    "plt.savefig('./results/pt_to_nearest_neighbor_dist_avgs_stds.png', dpi=resolution_dpi)"
   ]
  },
  {
   "cell_type": "code",
   "execution_count": null,
   "metadata": {
    "collapsed": true
   },
   "outputs": [],
   "source": []
  }
 ],
 "metadata": {
  "kernelspec": {
   "display_name": "Python 2",
   "language": "python",
   "name": "python2"
  },
  "language_info": {
   "codemirror_mode": {
    "name": "ipython",
    "version": 2
   },
   "file_extension": ".py",
   "mimetype": "text/x-python",
   "name": "python",
   "nbconvert_exporter": "python",
   "pygments_lexer": "ipython2",
   "version": "2.7.13"
  }
 },
 "nbformat": 4,
 "nbformat_minor": 2
}
