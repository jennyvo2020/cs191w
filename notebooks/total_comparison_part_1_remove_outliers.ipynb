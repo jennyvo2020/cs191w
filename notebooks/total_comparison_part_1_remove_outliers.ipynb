{
 "cells": [
  {
   "cell_type": "markdown",
   "metadata": {},
   "source": [
    "# Description\n",
    "\n",
    "This notebook executes Part 1 of total amphora comparative morphological analysis: outlier removal. It takes you through the following steps: (1) checking your files, (2) inputting the items you want to analyze, (3) running circularity analysis, (4) visualizing your results, and (5) saving your results.\n",
    "\n",
    "Outlier detection for each amphora model:\n",
    " - detects and screens for outliers\n",
    " - optionally outputs a .csv file containing coordinates with all non-outliers only, in order to avoid repeating this computation\n",
    " \n",
    "# I/O\n",
    "**Inputs:**\n",
    " - a point/mesh cloud (.obj format) for each amphora model\n",
    "\n",
    "**Outputs:**\n",
    " - comma-separated value (.csv) file for each amphora model\n",
    " \n",
    "## Sample Dataset\n",
    " \n",
    "The amphoras in this sample dataset are from the Yassiada shipwreck in Turkey.\n",
    "\n",
    "#### Edit a block of code if and only if you see \"USER INPUT NEEDED!\" above that block of code."
   ]
  },
  {
   "cell_type": "markdown",
   "metadata": {},
   "source": [
    "# Step 1: Check your files\n",
    "\n",
    "#### Your project directory should contain these components, organized in this way:\n",
    "\n",
    "```\n",
    "my_total_comparison_project (a folder)\n",
    "- total_comparison_part_1_remove_outliers.ipynb (this notebook file)\n",
    "- models\n",
    "    - 83-2_handleless.mtl (material file for amphora 83-2, handles removed)\n",
    "    - 83-2_handleless.obj (object file for amphora 83-2, handles removed)\n",
    "    - YA7_83-2_obj_0.jpg (image file for amphora 83-2)\n",
    "    - etc. for every jar\n",
    "```"
   ]
  },
  {
   "cell_type": "code",
   "execution_count": 1,
   "metadata": {
    "collapsed": true
   },
   "outputs": [],
   "source": [
    "import os, sys\n",
    "sys.path.insert(0,'../../code')\n",
    "import comp"
   ]
  },
  {
   "cell_type": "markdown",
   "metadata": {},
   "source": [
    "# Step 2: List the items you want to analyze\n",
    "\n",
    "List the IDs of the amphoras you want to analyze.\n",
    "#### USER INPUT NEEDED!"
   ]
  },
  {
   "cell_type": "code",
   "execution_count": 2,
   "metadata": {
    "collapsed": true
   },
   "outputs": [],
   "source": [
    "models = ['83-2',\n",
    "          '84-3',\n",
    "          '84-10',\n",
    "          '86-75',\n",
    "          '86-85',\n",
    "          '86-92',\n",
    "          '86-93',\n",
    "          '86-95',\n",
    "          '86-99',\n",
    "          '86-100',\n",
    "          '86-107',\n",
    "          '86-110',\n",
    "          '86-113',\n",
    "          '86-117',\n",
    "          '86-120',\n",
    "          'UN16',\n",
    "          'W43',\n",
    "          'W55',\n",
    "          'Y7',\n",
    "          'Y11',\n",
    "          'Y14',\n",
    "          'Y15',\n",
    "          'Y22',\n",
    "          'Y28',\n",
    "          'Y32',\n",
    "          'Y39',\n",
    "          'Y45',\n",
    "          'Y114',\n",
    "          'Y123',\n",
    "          'Y126',\n",
    "          'Y127',\n",
    "          'Y128']"
   ]
  },
  {
   "cell_type": "markdown",
   "metadata": {},
   "source": [
    "# Step 3: Run Outlier Removal\n",
    "Outlier points are identified as points which are not close enough to other points.\n",
    "Closeness threshold is the Otsu threshold as computed on the bimodal point-to-point distance distribution."
   ]
  },
  {
   "cell_type": "markdown",
   "metadata": {},
   "source": [
    "Run the cell below to decide whether or not to save csv files of point cloud coordinates with all outliers excluded."
   ]
  },
  {
   "cell_type": "code",
   "execution_count": 3,
   "metadata": {
    "collapsed": true
   },
   "outputs": [],
   "source": [
    "save_nonoutliers = True    # Set True if these files do not yet exist, else False."
   ]
  },
  {
   "cell_type": "markdown",
   "metadata": {},
   "source": [
    "Run the cell below to create an empty folder called \"clean_csv\"."
   ]
  },
  {
   "cell_type": "code",
   "execution_count": 5,
   "metadata": {
    "collapsed": true
   },
   "outputs": [],
   "source": [
    "if not os.path.exists('clean_csv'):\n",
    "    os.mkdir('clean_csv')"
   ]
  },
  {
   "cell_type": "code",
   "execution_count": 6,
   "metadata": {},
   "outputs": [
    {
     "name": "stdout",
     "output_type": "stream",
     "text": [
      "Now cleaning amphora 83-2 \n",
      "Now cleaning amphora 84-3 \n",
      "Now cleaning amphora 84-10 \n",
      "Now cleaning amphora 86-75 \n",
      "Now cleaning amphora 86-85 \n",
      "Now cleaning amphora 86-92 \n",
      "Now cleaning amphora 86-93 \n",
      "Now cleaning amphora 86-95 \n",
      "Now cleaning amphora 86-99 \n",
      "Now cleaning amphora 86-100 \n",
      "Now cleaning amphora 86-107 \n",
      "Now cleaning amphora 86-110 \n",
      "Now cleaning amphora 86-113 \n",
      "Now cleaning amphora 86-117 \n",
      "Now cleaning amphora 86-120 \n",
      "Now cleaning amphora UN16 \n",
      "Now cleaning amphora W43 \n",
      "Now cleaning amphora W55 \n",
      "Now cleaning amphora Y7 \n",
      "Now cleaning amphora Y11 \n",
      "Now cleaning amphora Y14 \n",
      "Now cleaning amphora Y15 \n",
      "Now cleaning amphora Y22 \n",
      "Now cleaning amphora Y28 \n",
      "Now cleaning amphora Y32 \n",
      "Now cleaning amphora Y39 \n",
      "Now cleaning amphora Y45 \n",
      "Now cleaning amphora Y114 \n",
      "Now cleaning amphora Y123 \n",
      "Now cleaning amphora Y126 \n",
      "Now cleaning amphora Y127 \n",
      "Now cleaning amphora Y128 \n"
     ]
    }
   ],
   "source": [
    "for model in models:\n",
    "    \n",
    "    print('Now cleaning amphora %s ' % model) # Allows the user to see which model the code is working on\n",
    "    \n",
    "    # Read object\n",
    "    obj_filepath = './models/%s_handleless.obj' % model\n",
    "    obj_coords = comp.obj_to_np(obj_filepath)\n",
    "    \n",
    "    # Remove object outlier points\n",
    "    obj_csv_filepath = './clean_csv/%s.csv' % model\n",
    "    obj_coords = comp.remove_outliers(obj_coords, save_nonoutliers, obj_csv_filepath)"
   ]
  },
  {
   "cell_type": "markdown",
   "metadata": {},
   "source": [
    "^ Each of these are status messages, which print while the program is running when the corresponding model is being processed."
   ]
  },
  {
   "cell_type": "code",
   "execution_count": null,
   "metadata": {
    "collapsed": true
   },
   "outputs": [],
   "source": []
  }
 ],
 "metadata": {
  "kernelspec": {
   "display_name": "Python 2",
   "language": "python",
   "name": "python2"
  },
  "language_info": {
   "codemirror_mode": {
    "name": "ipython",
    "version": 2
   },
   "file_extension": ".py",
   "mimetype": "text/x-python",
   "name": "python",
   "nbconvert_exporter": "python",
   "pygments_lexer": "ipython2",
   "version": "2.7.13"
  }
 },
 "nbformat": 4,
 "nbformat_minor": 2
}
