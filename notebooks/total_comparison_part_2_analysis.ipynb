{
 "cells": [
  {
   "cell_type": "markdown",
   "metadata": {},
   "source": [
    "# Description\n",
    "\n",
    "This notebook executes Part 2 of total amphora comparative morphological analysis: outlier removal. It takes you through the following steps: (1) checking your files, (2) inputting the items you want to analyze, (3) running cloud-to-cloud distance comparison, and (4) visualizing and saving your results, including high-quality figures for publication.\n",
    "\n",
    "Full jar comparative morphological analysis:\n",
    "- visualization of the average point-to-point distance between the two model point clouds across all amphoras of the dataset\n",
    "- optionally save all point-to-point distances as a csv file to avoid repeating this computation\n",
    " \n",
    "# I/O\n",
    "**Inputs:**\n",
    " - comma-separated value (.csv) file for each reference and compared amphora model\n",
    "\n",
    "**Outputs:**\n",
    " - csv files storing all point-to-point distances distance between each pare of compared amphoras\n",
    " - a visualization of the distribution of these average distances across the set of amphoras\n",
    " \n",
    "## Sample Dataset\n",
    " \n",
    "The amphoras in this sample dataset are from the Yassiada shipwreck in Turkey\n",
    "\n",
    "#### Edit a block of code if and only if you see \"USER INPUT NEEDED!\" above that block of code."
   ]
  },
  {
   "cell_type": "markdown",
   "metadata": {},
   "source": [
    "# Step 1: Check your files\n",
    "\n",
    "#### Your project directory should contain these components, organized in this way:\n",
    "\n",
    "```\n",
    "my_total_comparison_project (a folder)\n",
    "- total_comparison_part_2_analysis.ipynb (this notebook file)\n",
    "- clean_csv\n",
    "    - 83-2.csv (csv files of 83-2's coordinates, all outliers excluded)\n",
    "    - 84-3.csv (csv files of 84-23's coordinates, all outliers excluded)\n",
    "    - etc. for every jar\n",
    "- phys_data.csv (a file containing physical data -- max_diam, body_height, group -- measured in-person)\n",
    "```\n",
    "\n",
    "No longer needed for Part 2 analysis, but leave them this same folder for future reference:\n",
    "- models (folder used in Part 1)\n",
    "- total_comparison_part_1_remove_outliers.ipynb\n"
   ]
  },
  {
   "cell_type": "markdown",
   "metadata": {},
   "source": [
    "# Step 2: List the items you want to analyze\n",
    "\n",
    "Identify the amphora you want to use as a reference. List the IDs of the amphoras you want to compare with the reference amphora.\n",
    "#### USER INPUT NEEDED!"
   ]
  },
  {
   "cell_type": "code",
   "execution_count": 40,
   "metadata": {
    "collapsed": true
   },
   "outputs": [],
   "source": [
    "ref = 'Y114'\n",
    "compare = ['83-2',\n",
    "          '84-3',\n",
    "          '84-10',\n",
    "          '86-75',\n",
    "          '86-85',\n",
    "          '86-92',\n",
    "          '86-93',\n",
    "          '86-95',\n",
    "          '86-99',\n",
    "          '86-100',\n",
    "          '86-107',\n",
    "          '86-110',\n",
    "          '86-113',\n",
    "          '86-117',\n",
    "          '86-120',\n",
    "          'UN16',\n",
    "          'W43',\n",
    "          'W55',\n",
    "          'Y7',\n",
    "          'Y11',\n",
    "          'Y14',\n",
    "          'Y15',\n",
    "          'Y22',\n",
    "          'Y28',\n",
    "          'Y32',\n",
    "          'Y39',\n",
    "          'Y45',\n",
    "          'Y123',\n",
    "          'Y126',\n",
    "          'Y127',\n",
    "          'Y128']"
   ]
  },
  {
   "cell_type": "markdown",
   "metadata": {},
   "source": [
    "# Step 3: Run cloud-to-cloud distance comparison"
   ]
  },
  {
   "cell_type": "markdown",
   "metadata": {},
   "source": [
    "Run the cell below to set whether or not to save csv files of nearest-neighbor distances between objects."
   ]
  },
  {
   "cell_type": "code",
   "execution_count": 41,
   "metadata": {
    "collapsed": true
   },
   "outputs": [],
   "source": [
    "save_distances = True       # set True if these files do not yet exist, else False."
   ]
  },
  {
   "cell_type": "markdown",
   "metadata": {},
   "source": [
    "Run the cells below to calculate the mean distance from each point in the comparison model to the nearest neighbor in the reference model."
   ]
  },
  {
   "cell_type": "code",
   "execution_count": 42,
   "metadata": {
    "collapsed": true
   },
   "outputs": [],
   "source": [
    "import csv, os, sys\n",
    "sys.path.insert(0,'../../code')\n",
    "import comp\n",
    "import matplotlib.pyplot as plt\n",
    "import numpy as np\n",
    "from itertools import izip\n",
    "%matplotlib inline"
   ]
  },
  {
   "cell_type": "code",
   "execution_count": 43,
   "metadata": {},
   "outputs": [
    {
     "name": "stdout",
     "output_type": "stream",
     "text": [
      "83-2\n",
      "84-3\n",
      "84-10\n",
      "86-75\n",
      "86-85\n",
      "86-92\n",
      "86-93\n",
      "86-95\n",
      "86-99\n",
      "86-100\n",
      "86-107\n",
      "86-110\n",
      "86-113\n",
      "86-117\n",
      "86-120\n",
      "UN16\n",
      "W43\n",
      "W55\n",
      "Y7\n",
      "Y11\n",
      "Y14\n",
      "Y15\n",
      "Y22\n",
      "Y28\n",
      "Y32\n",
      "Y39\n",
      "Y45\n",
      "Y123\n",
      "Y126\n",
      "Y127\n",
      "Y128\n"
     ]
    }
   ],
   "source": [
    "average_distances = []\n",
    "stdev_distances = []\n",
    "for model in compare:\n",
    "    \n",
    "    print(model) # so the user can see which segment the code is working on\n",
    "    \n",
    "    ref_csv_path = './clean_csv/%s.csv' % ref\n",
    "    model_csv_path = './clean_csv/%s.csv' % model\n",
    "    dist_filepath = './distances/%s_%s_distances.csv' % (ref, model)\n",
    "    \n",
    "    average_distance, stdev_distance = comp.get_avg_cc_dist(ref_csv_path, model_csv_path, save_distances, dist_filename)\n",
    "    \n",
    "    average_distances.append(average_distance)\n",
    "    stdev_distances.append(stdev_distance)"
   ]
  },
  {
   "cell_type": "markdown",
   "metadata": {},
   "source": [
    "^ Each of these are status messages, which print while the program is running when the corresponding model is being compared with the reference."
   ]
  },
  {
   "cell_type": "markdown",
   "metadata": {},
   "source": [
    "Run the cell below to create an empty folder called \"results\"."
   ]
  },
  {
   "cell_type": "code",
   "execution_count": 44,
   "metadata": {
    "collapsed": true
   },
   "outputs": [],
   "source": [
    "if not os.path.exists('results'):\n",
    "    os.mkdir('results')"
   ]
  },
  {
   "cell_type": "markdown",
   "metadata": {},
   "source": [
    "Run the cell below if you want to save the average and stdev distance data for each pair in a comma-separated value (CSV) file."
   ]
  },
  {
   "cell_type": "code",
   "execution_count": 45,
   "metadata": {
    "collapsed": true
   },
   "outputs": [],
   "source": [
    "with open('./results/distances_to_%s.csv' % ref, 'wb') as f:\n",
    "    writer = csv.writer(f)\n",
    "    writer.writerows(izip(compare, average_distances, stdev_distances))"
   ]
  },
  {
   "cell_type": "markdown",
   "metadata": {},
   "source": [
    "# Step 4: Visualize morphological difference across the dataset"
   ]
  },
  {
   "cell_type": "markdown",
   "metadata": {},
   "source": [
    "## Customize figures\n",
    "\n",
    "Adjust the parameters in the cell below to customize the look of this figure. Run the cell to set the parameters.\n",
    "\n",
    "*Tip: https://colorbrewer2.org/#type=sequential&scheme=BuGn&n=3 is a great place to look for colors that are colorblind safe, print friendly, and photocopy safe.*"
   ]
  },
  {
   "cell_type": "code",
   "execution_count": 46,
   "metadata": {
    "collapsed": true
   },
   "outputs": [],
   "source": [
    "figure_width = 15\n",
    "figure_height = 6\n",
    "dist_color = '#412100'   # set color for bars representing nearest neighbor distance\n",
    "diam_color = '#d2c295'   # set color for bars representing maximum diameter\n",
    "bodh_color = '#928b81'   # set color for bars representing body height\n",
    "resolution_dpi = 600     # set resolution of saved figures in dots per inch"
   ]
  },
  {
   "cell_type": "markdown",
   "metadata": {},
   "source": [
    "## Visualize morphological difference\n",
    "\n",
    "Run the cell below to visualize the morphological differences between the reference amphora and the comparison amphoras as a bar chart."
   ]
  },
  {
   "cell_type": "code",
   "execution_count": 31,
   "metadata": {},
   "outputs": [
    {
     "data": {
      "image/png": "[encoded data removed]",
      "text/plain": [
       "<matplotlib.figure.Figure at 0x1c197381d0>"
      ]
     },
     "metadata": {},
     "output_type": "display_data"
    }
   ],
   "source": [
    "# order the compared amphoras by avg NND to ref amphora\n",
    "compare_sorted = [x for _,x in sorted(zip(average_distances, compare))]\n",
    "average_distances_sorted = sorted(average_distances)\n",
    "\n",
    "fig, ax = plt.subplots(figsize = (figure_width, figure_height))\n",
    "x_pos = np.arange(len(compare_sorted))\n",
    "ax.bar(x_pos, average_distances_sorted, color=dist_color)\n",
    "ax.set_xticks(x_pos)\n",
    "ax.set_xticklabels(compare_sorted)\n",
    "ax.set_xlabel('Compared with %s' % ref)\n",
    "ax.set_ylabel('Average point-to-nearest-neighbor distance')\n",
    "ax.set_title('Morphological Difference (Avg. NND) from %s' % ref)\n",
    "plt.xticks(rotation='vertical')\n",
    "plt.savefig('./results/Morphological Difference (Avg. NND) from %s.png' % ref, dpi=resolution_dpi)\n",
    "plt.show()"
   ]
  },
  {
   "cell_type": "markdown",
   "metadata": {},
   "source": [
    "** Import pertinent data physically measured. **"
   ]
  },
  {
   "cell_type": "code",
   "execution_count": 34,
   "metadata": {},
   "outputs": [
    {
     "name": "stdout",
     "output_type": "stream",
     "text": [
      "        max_diam  body_height                       group\n",
      "tag                                                      \n",
      "83-2        40.7         38.9  Spiral combed - main group\n",
      "84-3        42.0         41.3  Spiral combed - main group\n",
      "84-10       41.8         40.9  Spiral combed - main group\n",
      "86-75       41.8         41.4  Spiral combed - main group\n",
      "86-85       41.3         39.0  Spiral combed - main group\n",
      "86-92       40.9         41.2  Spiral combed - main group\n",
      "86-93       42.3         41.3  Spiral combed - main group\n",
      "86-95       43.0         41.5  Spiral combed - main group\n",
      "86-99       41.1         42.1  Spiral combed - main group\n",
      "86-100      41.4         43.1  Spiral combed - main group\n",
      "86-107      41.9         42.2  Spiral combed - main group\n",
      "86-110      43.9         43.2  Spiral combed - main group\n",
      "86-113      42.0         42.2  Spiral combed - main group\n",
      "86-117      42.8         42.3  Spiral combed - main group\n",
      "86-120      41.8         42.4  Spiral combed - main group\n",
      "UN16        42.7         41.7  Spiral combed - main group\n",
      "W43         42.8         40.3  Spiral combed - main group\n",
      "W55         42.3         41.4  Spiral combed - main group\n",
      "Y7          42.2         41.5  Spiral combed - main group\n",
      "Y11         41.1         40.8  Spiral combed - main group\n",
      "Y14         41.9         41.8  Spiral combed - main group\n",
      "Y15         41.9         39.7  Spiral combed - main group\n",
      "Y22         41.1         41.4  Spiral combed - main group\n",
      "Y28         40.2         39.3  Spiral combed - main group\n",
      "Y32         42.4         42.2  Spiral combed - main group\n",
      "Y39         42.9         42.1  Spiral combed - main group\n",
      "Y45         42.6         41.9  Spiral combed - main group\n",
      "Y114        41.9         41.5  Spiral combed - main group\n",
      "Y123        42.2         40.5  Spiral combed - main group\n",
      "Y126        43.1         42.0  Spiral combed - main group\n",
      "Y127        42.8         41.5  Spiral combed - main group\n",
      "Y128        41.5         41.9  Spiral combed - main group\n"
     ]
    }
   ],
   "source": [
    "import pandas as pd\n",
    "phys_data = pd.read_csv('phys_data.csv', index_col=0)\n",
    "print(phys_data)"
   ]
  },
  {
   "cell_type": "markdown",
   "metadata": {},
   "source": [
    "## Visualize morphological difference compared with other physical quantities across the dataset"
   ]
  },
  {
   "cell_type": "code",
   "execution_count": 35,
   "metadata": {},
   "outputs": [
    {
     "data": {
      "image/png": "[encoded data removed]",
      "text/plain": [
       "<matplotlib.figure.Figure at 0x1c13462290>"
      ]
     },
     "metadata": {},
     "output_type": "display_data"
    }
   ],
   "source": [
    "from matplotlib.lines import Line2D\n",
    "\n",
    "phys_data_comp = phys_data.drop([ref])\n",
    "\n",
    "max_diam = list(phys_data_comp['max_diam'])\n",
    "body_height = list(phys_data_comp['body_height'])\n",
    "\n",
    "max_diam_sorted = [x for _,x in sorted(zip(average_distances, max_diam))]\n",
    "body_height_sorted = [x for _,x in sorted(zip(average_distances, body_height))]\n",
    "\n",
    "fig, ax = plt.subplots(figsize=(figure_width, figure_height))\n",
    "x_pos = np.arange(len(compare_sorted))\n",
    "\n",
    "w = 0.2\n",
    "s = 0.03\n",
    "\n",
    "colors = [diam_color, bodh_color]\n",
    "\n",
    "ax.bar(x_pos-w-s, [x*10 for x in average_distances_sorted], width=w, color=dist_color, align='center')\n",
    "ax.bar(x_pos, max_diam_sorted, width=w, color=diam_color, align='center')\n",
    "ax.bar(x_pos+w+s, body_height_sorted, width=w, color=bodh_color, align='center')\n",
    "\n",
    "handle_list = [Line2D([0],[0], marker='o', color='w', markerfacecolor=dist_color, label='Avg NND compared with %s [mm * 0.1]' % ref),\n",
    "               Line2D([0],[0], marker='o', color='w', markerfacecolor=diam_color, label='Max diameter [cm]'),\n",
    "               Line2D([0],[0], marker='o', color='w', markerfacecolor=bodh_color, label='Body height [cm]')]\n",
    "plt.legend(handles=handle_list, loc='upper left')\n",
    "plt.xlabel('ID')\n",
    "ax.set_xticks(x_pos)\n",
    "ax.set_xticklabels(compare_sorted)\n",
    "ax.set_title('Morphological Difference (Avg. NND) from %s and Absolute Physical Measurements' % ref)\n",
    "plt.xticks(rotation='vertical')\n",
    "plt.savefig('./results/Morphological Difference (Avg. NND) from %s and Absolute Physical Measurements.png' % ref, dpi=resolution_dpi)\n",
    "plt.show()"
   ]
  },
  {
   "cell_type": "markdown",
   "metadata": {},
   "source": [
    "## Visualize morphological difference along with differences in physical metrics\n",
    "\n",
    "Measurement difference is the positive difference between the measurement for the comparison jar and the measurement for the reference jar. "
   ]
  },
  {
   "cell_type": "code",
   "execution_count": 36,
   "metadata": {
    "collapsed": true,
    "scrolled": true
   },
   "outputs": [],
   "source": [
    "row_ref = phys_data.loc[ref]\n",
    "\n",
    "max_diam_sorted_diff_with_ref = [abs(x-row_ref.loc['max_diam']) for x in max_diam_sorted]\n",
    "body_height_sorted_diff_with_ref = [abs(x-row_ref.loc['body_height']) for x in body_height_sorted]"
   ]
  },
  {
   "cell_type": "code",
   "execution_count": 38,
   "metadata": {},
   "outputs": [
    {
     "data": {
      "image/png": "[encoded data removed]",
      "text/plain": [
       "<matplotlib.figure.Figure at 0x1c13c6e110>"
      ]
     },
     "metadata": {},
     "output_type": "display_data"
    }
   ],
   "source": [
    "fig, ax = plt.subplots(figsize=(figure_width, figure_height))\n",
    "x_pos = np.arange(len(compare_sorted))\n",
    "\n",
    "w = 0.2\n",
    "s = 0.03\n",
    "\n",
    "colors = []\n",
    "\n",
    "ax.bar(x_pos-w-s, average_distances_sorted,width=w, color=dist_color,align='center')\n",
    "ax.bar(x_pos, max_diam_sorted_diff_with_ref,width=w, color=diam_color,align='center')\n",
    "ax.bar(x_pos+w+s, body_height_sorted_diff_with_ref,width=w, color=bodh_color,align='center')\n",
    "\n",
    "handle_list = [Line2D([0],[0], marker='o', color='w', markerfacecolor=dist_color, label='Avg NND compared with %s [mm]' % ref),\n",
    "               Line2D([0],[0], marker='o', color='w', markerfacecolor=diam_color, label='Difference in max diameter from %s [cm]' % ref),\n",
    "               Line2D([0],[0], marker='o', color='w', markerfacecolor=bodh_color, label='Difference in body height from %s [cm]' % ref)]\n",
    "\n",
    "plt.legend(handles=handle_list, loc='upper left')\n",
    "plt.xlabel('ID')\n",
    "ax.set_xticks(x_pos)\n",
    "ax.set_xticklabels(compare_sorted)\n",
    "ax.set_title('Morphological Difference (avg. NND) from %s and Differences in Physically-Measured Metrics from %s'  % (ref, ref))\n",
    "plt.xticks(rotation='vertical')\n",
    "plt.savefig('./results/Morphological Difference from %s and Differences in Physically-Measured Metrics from %s'  % (ref, ref), dpi=resolution_dpi)\n",
    "plt.show()"
   ]
  },
  {
   "cell_type": "markdown",
   "metadata": {},
   "source": [
    "## Characterize the dataset as a whole"
   ]
  },
  {
   "cell_type": "code",
   "execution_count": 39,
   "metadata": {
    "scrolled": false
   },
   "outputs": [
    {
     "name": "stdout",
     "output_type": "stream",
     "text": [
      "Physical metrics, absolute\n",
      "\n",
      "\t\tmean\t\tstdev\t\tcv\n",
      "\n",
      "max diam [cm]\t42.012903\t0.795853\t52.789782\n",
      "body ht [cm]\t41.387097\t1.046882\t39.533668\n",
      "\n",
      "Physical metrics, difference from Y114\n",
      "\n",
      "\t\tmean\t\tstdev\t\tcv\n",
      "\n",
      "max diam [cm]\t0.635484\t0.492229\t1.291033\n",
      "body ht [cm]\t0.764516\t0.724034\t1.055912\n",
      "\n",
      "Morphological difference from Y114\n",
      "\n",
      "\t\tmean\t\tstdev\t\tcv\n",
      "\n",
      "NND [mm]\t4.200118\t1.129236\t3.719435\n"
     ]
    }
   ],
   "source": [
    "metrics_abs = [max_diam_sorted,\n",
    "          body_height_sorted]\n",
    "\n",
    "metrics_diff = [max_diam_sorted_diff_with_ref,\n",
    "          body_height_sorted_diff_with_ref]\n",
    "\n",
    "metric_names = ['max diam [cm]', 'body ht [cm]']\n",
    "\n",
    "print 'Physical metrics, absolute\\n\\n\\t\\t%s\\t\\t%s\\t\\t%s\\n' % ('mean', 'stdev', 'cv')\n",
    "for metric, name in zip(metrics_abs, metric_names):\n",
    "    print '%s\\t%f\\t%f\\t%f' % (name, np.mean(metric), np.std(metric), np.mean(metric)/np.std(metric))\n",
    "\n",
    "print '\\nPhysical metrics, difference from %s\\n\\n\\t\\t%s\\t\\t%s\\t\\t%s\\n' % (ref, 'mean', 'stdev', 'cv')\n",
    "for metric, name in zip(metrics_diff, metric_names):\n",
    "    print '%s\\t%f\\t%f\\t%f' % (name, np.mean(metric), np.std(metric), np.mean(metric)/np.std(metric))\n",
    "    \n",
    "print '\\nMorphological difference from %s\\n\\n\\t\\t%s\\t\\t%s\\t\\t%s\\n' % (ref, 'mean', 'stdev', 'cv')\n",
    "name = 'NND [mm]'\n",
    "metric = average_distances_sorted\n",
    "print '%s\\t%f\\t%f\\t%f' % (name, np.mean(metric), np.std(metric), np.mean(metric)/np.std(metric))"
   ]
  },
  {
   "cell_type": "code",
   "execution_count": null,
   "metadata": {
    "collapsed": true
   },
   "outputs": [],
   "source": []
  }
 ],
 "metadata": {
  "kernelspec": {
   "display_name": "Python 2",
   "language": "python",
   "name": "python2"
  },
  "language_info": {
   "codemirror_mode": {
    "name": "ipython",
    "version": 2
   },
   "file_extension": ".py",
   "mimetype": "text/x-python",
   "name": "python",
   "nbconvert_exporter": "python",
   "pygments_lexer": "ipython2",
   "version": "2.7.13"
  }
 },
 "nbformat": 4,
 "nbformat_minor": 2
}
